{
 "cells": [
  {
   "cell_type": "markdown",
   "id": "16eb3563387295d3",
   "metadata": {},
   "source": "## Final Submission"
  },
  {
   "cell_type": "code",
   "id": "initial_id",
   "metadata": {
    "collapsed": true,
    "jupyter": {
     "outputs_hidden": true
    },
    "ExecuteTime": {
     "end_time": "2024-08-01T18:36:51.303071Z",
     "start_time": "2024-08-01T18:36:51.274920Z"
    }
   },
   "source": [
    "import numpy as np\n",
    "import pandas as pd\n",
    "import matplotlib.pyplot as plt\n",
    "import seaborn as sns\n",
    "from sklearn.linear_model import LogisticRegression"
   ],
   "outputs": [],
   "execution_count": 2
  },
  {
   "cell_type": "code",
   "id": "2ea0a492067419ca",
   "metadata": {
    "ExecuteTime": {
     "end_time": "2024-08-01T18:37:08.123613Z",
     "start_time": "2024-08-01T18:36:53.101213Z"
    }
   },
   "source": [
    "df = pd.read_csv(r'C:\\Users\\Engr. Abioye\\Documents\\Machine_Projects\\KaggleX_Practice\\train.csv')\n",
    "df1= pd.read_csv(r'C:\\Users\\Engr. Abioye\\Documents\\Machine_Projects\\KaggleX_Practice\\test.csv')\n",
    "df.head()"
   ],
   "outputs": [
    {
     "data": {
      "text/plain": [
       "   id  Gender  Age  Driving_License  Region_Code  Previously_Insured  \\\n",
       "0   0    Male   21                1         35.0                   0   \n",
       "1   1    Male   43                1         28.0                   0   \n",
       "2   2  Female   25                1         14.0                   1   \n",
       "3   3  Female   35                1          1.0                   0   \n",
       "4   4  Female   36                1         15.0                   1   \n",
       "\n",
       "  Vehicle_Age Vehicle_Damage  Annual_Premium  Policy_Sales_Channel  Vintage  \\\n",
       "0    1-2 Year            Yes         65101.0                 124.0      187   \n",
       "1   > 2 Years            Yes         58911.0                  26.0      288   \n",
       "2    < 1 Year             No         38043.0                 152.0      254   \n",
       "3    1-2 Year            Yes          2630.0                 156.0       76   \n",
       "4    1-2 Year             No         31951.0                 152.0      294   \n",
       "\n",
       "   Response  \n",
       "0         0  \n",
       "1         1  \n",
       "2         0  \n",
       "3         0  \n",
       "4         0  "
      ],
      "text/html": [
       "<div>\n",
       "<style scoped>\n",
       "    .dataframe tbody tr th:only-of-type {\n",
       "        vertical-align: middle;\n",
       "    }\n",
       "\n",
       "    .dataframe tbody tr th {\n",
       "        vertical-align: top;\n",
       "    }\n",
       "\n",
       "    .dataframe thead th {\n",
       "        text-align: right;\n",
       "    }\n",
       "</style>\n",
       "<table border=\"1\" class=\"dataframe\">\n",
       "  <thead>\n",
       "    <tr style=\"text-align: right;\">\n",
       "      <th></th>\n",
       "      <th>id</th>\n",
       "      <th>Gender</th>\n",
       "      <th>Age</th>\n",
       "      <th>Driving_License</th>\n",
       "      <th>Region_Code</th>\n",
       "      <th>Previously_Insured</th>\n",
       "      <th>Vehicle_Age</th>\n",
       "      <th>Vehicle_Damage</th>\n",
       "      <th>Annual_Premium</th>\n",
       "      <th>Policy_Sales_Channel</th>\n",
       "      <th>Vintage</th>\n",
       "      <th>Response</th>\n",
       "    </tr>\n",
       "  </thead>\n",
       "  <tbody>\n",
       "    <tr>\n",
       "      <th>0</th>\n",
       "      <td>0</td>\n",
       "      <td>Male</td>\n",
       "      <td>21</td>\n",
       "      <td>1</td>\n",
       "      <td>35.0</td>\n",
       "      <td>0</td>\n",
       "      <td>1-2 Year</td>\n",
       "      <td>Yes</td>\n",
       "      <td>65101.0</td>\n",
       "      <td>124.0</td>\n",
       "      <td>187</td>\n",
       "      <td>0</td>\n",
       "    </tr>\n",
       "    <tr>\n",
       "      <th>1</th>\n",
       "      <td>1</td>\n",
       "      <td>Male</td>\n",
       "      <td>43</td>\n",
       "      <td>1</td>\n",
       "      <td>28.0</td>\n",
       "      <td>0</td>\n",
       "      <td>&gt; 2 Years</td>\n",
       "      <td>Yes</td>\n",
       "      <td>58911.0</td>\n",
       "      <td>26.0</td>\n",
       "      <td>288</td>\n",
       "      <td>1</td>\n",
       "    </tr>\n",
       "    <tr>\n",
       "      <th>2</th>\n",
       "      <td>2</td>\n",
       "      <td>Female</td>\n",
       "      <td>25</td>\n",
       "      <td>1</td>\n",
       "      <td>14.0</td>\n",
       "      <td>1</td>\n",
       "      <td>&lt; 1 Year</td>\n",
       "      <td>No</td>\n",
       "      <td>38043.0</td>\n",
       "      <td>152.0</td>\n",
       "      <td>254</td>\n",
       "      <td>0</td>\n",
       "    </tr>\n",
       "    <tr>\n",
       "      <th>3</th>\n",
       "      <td>3</td>\n",
       "      <td>Female</td>\n",
       "      <td>35</td>\n",
       "      <td>1</td>\n",
       "      <td>1.0</td>\n",
       "      <td>0</td>\n",
       "      <td>1-2 Year</td>\n",
       "      <td>Yes</td>\n",
       "      <td>2630.0</td>\n",
       "      <td>156.0</td>\n",
       "      <td>76</td>\n",
       "      <td>0</td>\n",
       "    </tr>\n",
       "    <tr>\n",
       "      <th>4</th>\n",
       "      <td>4</td>\n",
       "      <td>Female</td>\n",
       "      <td>36</td>\n",
       "      <td>1</td>\n",
       "      <td>15.0</td>\n",
       "      <td>1</td>\n",
       "      <td>1-2 Year</td>\n",
       "      <td>No</td>\n",
       "      <td>31951.0</td>\n",
       "      <td>152.0</td>\n",
       "      <td>294</td>\n",
       "      <td>0</td>\n",
       "    </tr>\n",
       "  </tbody>\n",
       "</table>\n",
       "</div>"
      ]
     },
     "execution_count": 3,
     "metadata": {},
     "output_type": "execute_result"
    }
   ],
   "execution_count": 3
  },
  {
   "metadata": {
    "ExecuteTime": {
     "end_time": "2024-08-01T18:37:16.653625Z",
     "start_time": "2024-08-01T18:37:16.636014Z"
    }
   },
   "cell_type": "code",
   "source": "df1.head()",
   "id": "c9e4f2b98c08f4eb",
   "outputs": [
    {
     "data": {
      "text/plain": [
       "         id  Gender  Age  Driving_License  Region_Code  Previously_Insured  \\\n",
       "0  11504798  Female   20                1         47.0                   0   \n",
       "1  11504799    Male   47                1         28.0                   0   \n",
       "2  11504800    Male   47                1         43.0                   0   \n",
       "3  11504801  Female   22                1         47.0                   1   \n",
       "4  11504802    Male   51                1         19.0                   0   \n",
       "\n",
       "  Vehicle_Age Vehicle_Damage  Annual_Premium  Policy_Sales_Channel  Vintage  \n",
       "0    < 1 Year             No          2630.0                 160.0      228  \n",
       "1    1-2 Year            Yes         37483.0                 124.0      123  \n",
       "2    1-2 Year            Yes          2630.0                  26.0      271  \n",
       "3    < 1 Year             No         24502.0                 152.0      115  \n",
       "4    1-2 Year             No         34115.0                 124.0      148  "
      ],
      "text/html": [
       "<div>\n",
       "<style scoped>\n",
       "    .dataframe tbody tr th:only-of-type {\n",
       "        vertical-align: middle;\n",
       "    }\n",
       "\n",
       "    .dataframe tbody tr th {\n",
       "        vertical-align: top;\n",
       "    }\n",
       "\n",
       "    .dataframe thead th {\n",
       "        text-align: right;\n",
       "    }\n",
       "</style>\n",
       "<table border=\"1\" class=\"dataframe\">\n",
       "  <thead>\n",
       "    <tr style=\"text-align: right;\">\n",
       "      <th></th>\n",
       "      <th>id</th>\n",
       "      <th>Gender</th>\n",
       "      <th>Age</th>\n",
       "      <th>Driving_License</th>\n",
       "      <th>Region_Code</th>\n",
       "      <th>Previously_Insured</th>\n",
       "      <th>Vehicle_Age</th>\n",
       "      <th>Vehicle_Damage</th>\n",
       "      <th>Annual_Premium</th>\n",
       "      <th>Policy_Sales_Channel</th>\n",
       "      <th>Vintage</th>\n",
       "    </tr>\n",
       "  </thead>\n",
       "  <tbody>\n",
       "    <tr>\n",
       "      <th>0</th>\n",
       "      <td>11504798</td>\n",
       "      <td>Female</td>\n",
       "      <td>20</td>\n",
       "      <td>1</td>\n",
       "      <td>47.0</td>\n",
       "      <td>0</td>\n",
       "      <td>&lt; 1 Year</td>\n",
       "      <td>No</td>\n",
       "      <td>2630.0</td>\n",
       "      <td>160.0</td>\n",
       "      <td>228</td>\n",
       "    </tr>\n",
       "    <tr>\n",
       "      <th>1</th>\n",
       "      <td>11504799</td>\n",
       "      <td>Male</td>\n",
       "      <td>47</td>\n",
       "      <td>1</td>\n",
       "      <td>28.0</td>\n",
       "      <td>0</td>\n",
       "      <td>1-2 Year</td>\n",
       "      <td>Yes</td>\n",
       "      <td>37483.0</td>\n",
       "      <td>124.0</td>\n",
       "      <td>123</td>\n",
       "    </tr>\n",
       "    <tr>\n",
       "      <th>2</th>\n",
       "      <td>11504800</td>\n",
       "      <td>Male</td>\n",
       "      <td>47</td>\n",
       "      <td>1</td>\n",
       "      <td>43.0</td>\n",
       "      <td>0</td>\n",
       "      <td>1-2 Year</td>\n",
       "      <td>Yes</td>\n",
       "      <td>2630.0</td>\n",
       "      <td>26.0</td>\n",
       "      <td>271</td>\n",
       "    </tr>\n",
       "    <tr>\n",
       "      <th>3</th>\n",
       "      <td>11504801</td>\n",
       "      <td>Female</td>\n",
       "      <td>22</td>\n",
       "      <td>1</td>\n",
       "      <td>47.0</td>\n",
       "      <td>1</td>\n",
       "      <td>&lt; 1 Year</td>\n",
       "      <td>No</td>\n",
       "      <td>24502.0</td>\n",
       "      <td>152.0</td>\n",
       "      <td>115</td>\n",
       "    </tr>\n",
       "    <tr>\n",
       "      <th>4</th>\n",
       "      <td>11504802</td>\n",
       "      <td>Male</td>\n",
       "      <td>51</td>\n",
       "      <td>1</td>\n",
       "      <td>19.0</td>\n",
       "      <td>0</td>\n",
       "      <td>1-2 Year</td>\n",
       "      <td>No</td>\n",
       "      <td>34115.0</td>\n",
       "      <td>124.0</td>\n",
       "      <td>148</td>\n",
       "    </tr>\n",
       "  </tbody>\n",
       "</table>\n",
       "</div>"
      ]
     },
     "execution_count": 4,
     "metadata": {},
     "output_type": "execute_result"
    }
   ],
   "execution_count": 4
  },
  {
   "metadata": {
    "ExecuteTime": {
     "end_time": "2024-08-01T18:37:28.631817Z",
     "start_time": "2024-08-01T18:37:28.607240Z"
    }
   },
   "cell_type": "code",
   "source": "df.info()",
   "id": "83c48eb87d759745",
   "outputs": [
    {
     "name": "stdout",
     "output_type": "stream",
     "text": [
      "<class 'pandas.core.frame.DataFrame'>\n",
      "RangeIndex: 11504798 entries, 0 to 11504797\n",
      "Data columns (total 12 columns):\n",
      " #   Column                Dtype  \n",
      "---  ------                -----  \n",
      " 0   id                    int64  \n",
      " 1   Gender                object \n",
      " 2   Age                   int64  \n",
      " 3   Driving_License       int64  \n",
      " 4   Region_Code           float64\n",
      " 5   Previously_Insured    int64  \n",
      " 6   Vehicle_Age           object \n",
      " 7   Vehicle_Damage        object \n",
      " 8   Annual_Premium        float64\n",
      " 9   Policy_Sales_Channel  float64\n",
      " 10  Vintage               int64  \n",
      " 11  Response              int64  \n",
      "dtypes: float64(3), int64(6), object(3)\n",
      "memory usage: 1.0+ GB\n"
     ]
    }
   ],
   "execution_count": 5
  },
  {
   "metadata": {
    "ExecuteTime": {
     "end_time": "2024-08-01T18:37:35.209273Z",
     "start_time": "2024-08-01T18:37:32.575103Z"
    }
   },
   "cell_type": "code",
   "source": "df.describe()",
   "id": "3471994fa15723b7",
   "outputs": [
    {
     "data": {
      "text/plain": [
       "                 id           Age  Driving_License   Region_Code  \\\n",
       "count  1.150480e+07  1.150480e+07     1.150480e+07  1.150480e+07   \n",
       "mean   5.752398e+06  3.838356e+01     9.980220e-01  2.641869e+01   \n",
       "std    3.321149e+06  1.499346e+01     4.443120e-02  1.299159e+01   \n",
       "min    0.000000e+00  2.000000e+01     0.000000e+00  0.000000e+00   \n",
       "25%    2.876199e+06  2.400000e+01     1.000000e+00  1.500000e+01   \n",
       "50%    5.752398e+06  3.600000e+01     1.000000e+00  2.800000e+01   \n",
       "75%    8.628598e+06  4.900000e+01     1.000000e+00  3.500000e+01   \n",
       "max    1.150480e+07  8.500000e+01     1.000000e+00  5.200000e+01   \n",
       "\n",
       "       Previously_Insured  Annual_Premium  Policy_Sales_Channel       Vintage  \\\n",
       "count        1.150480e+07    1.150480e+07          1.150480e+07  1.150480e+07   \n",
       "mean         4.629966e-01    3.046137e+04          1.124254e+02  1.638977e+02   \n",
       "std          4.986289e-01    1.645475e+04          5.403571e+01  7.997953e+01   \n",
       "min          0.000000e+00    2.630000e+03          1.000000e+00  1.000000e+01   \n",
       "25%          0.000000e+00    2.527700e+04          2.900000e+01  9.900000e+01   \n",
       "50%          0.000000e+00    3.182400e+04          1.510000e+02  1.660000e+02   \n",
       "75%          1.000000e+00    3.945100e+04          1.520000e+02  2.320000e+02   \n",
       "max          1.000000e+00    5.401650e+05          1.630000e+02  2.990000e+02   \n",
       "\n",
       "           Response  \n",
       "count  1.150480e+07  \n",
       "mean   1.229973e-01  \n",
       "std    3.284341e-01  \n",
       "min    0.000000e+00  \n",
       "25%    0.000000e+00  \n",
       "50%    0.000000e+00  \n",
       "75%    0.000000e+00  \n",
       "max    1.000000e+00  "
      ],
      "text/html": [
       "<div>\n",
       "<style scoped>\n",
       "    .dataframe tbody tr th:only-of-type {\n",
       "        vertical-align: middle;\n",
       "    }\n",
       "\n",
       "    .dataframe tbody tr th {\n",
       "        vertical-align: top;\n",
       "    }\n",
       "\n",
       "    .dataframe thead th {\n",
       "        text-align: right;\n",
       "    }\n",
       "</style>\n",
       "<table border=\"1\" class=\"dataframe\">\n",
       "  <thead>\n",
       "    <tr style=\"text-align: right;\">\n",
       "      <th></th>\n",
       "      <th>id</th>\n",
       "      <th>Age</th>\n",
       "      <th>Driving_License</th>\n",
       "      <th>Region_Code</th>\n",
       "      <th>Previously_Insured</th>\n",
       "      <th>Annual_Premium</th>\n",
       "      <th>Policy_Sales_Channel</th>\n",
       "      <th>Vintage</th>\n",
       "      <th>Response</th>\n",
       "    </tr>\n",
       "  </thead>\n",
       "  <tbody>\n",
       "    <tr>\n",
       "      <th>count</th>\n",
       "      <td>1.150480e+07</td>\n",
       "      <td>1.150480e+07</td>\n",
       "      <td>1.150480e+07</td>\n",
       "      <td>1.150480e+07</td>\n",
       "      <td>1.150480e+07</td>\n",
       "      <td>1.150480e+07</td>\n",
       "      <td>1.150480e+07</td>\n",
       "      <td>1.150480e+07</td>\n",
       "      <td>1.150480e+07</td>\n",
       "    </tr>\n",
       "    <tr>\n",
       "      <th>mean</th>\n",
       "      <td>5.752398e+06</td>\n",
       "      <td>3.838356e+01</td>\n",
       "      <td>9.980220e-01</td>\n",
       "      <td>2.641869e+01</td>\n",
       "      <td>4.629966e-01</td>\n",
       "      <td>3.046137e+04</td>\n",
       "      <td>1.124254e+02</td>\n",
       "      <td>1.638977e+02</td>\n",
       "      <td>1.229973e-01</td>\n",
       "    </tr>\n",
       "    <tr>\n",
       "      <th>std</th>\n",
       "      <td>3.321149e+06</td>\n",
       "      <td>1.499346e+01</td>\n",
       "      <td>4.443120e-02</td>\n",
       "      <td>1.299159e+01</td>\n",
       "      <td>4.986289e-01</td>\n",
       "      <td>1.645475e+04</td>\n",
       "      <td>5.403571e+01</td>\n",
       "      <td>7.997953e+01</td>\n",
       "      <td>3.284341e-01</td>\n",
       "    </tr>\n",
       "    <tr>\n",
       "      <th>min</th>\n",
       "      <td>0.000000e+00</td>\n",
       "      <td>2.000000e+01</td>\n",
       "      <td>0.000000e+00</td>\n",
       "      <td>0.000000e+00</td>\n",
       "      <td>0.000000e+00</td>\n",
       "      <td>2.630000e+03</td>\n",
       "      <td>1.000000e+00</td>\n",
       "      <td>1.000000e+01</td>\n",
       "      <td>0.000000e+00</td>\n",
       "    </tr>\n",
       "    <tr>\n",
       "      <th>25%</th>\n",
       "      <td>2.876199e+06</td>\n",
       "      <td>2.400000e+01</td>\n",
       "      <td>1.000000e+00</td>\n",
       "      <td>1.500000e+01</td>\n",
       "      <td>0.000000e+00</td>\n",
       "      <td>2.527700e+04</td>\n",
       "      <td>2.900000e+01</td>\n",
       "      <td>9.900000e+01</td>\n",
       "      <td>0.000000e+00</td>\n",
       "    </tr>\n",
       "    <tr>\n",
       "      <th>50%</th>\n",
       "      <td>5.752398e+06</td>\n",
       "      <td>3.600000e+01</td>\n",
       "      <td>1.000000e+00</td>\n",
       "      <td>2.800000e+01</td>\n",
       "      <td>0.000000e+00</td>\n",
       "      <td>3.182400e+04</td>\n",
       "      <td>1.510000e+02</td>\n",
       "      <td>1.660000e+02</td>\n",
       "      <td>0.000000e+00</td>\n",
       "    </tr>\n",
       "    <tr>\n",
       "      <th>75%</th>\n",
       "      <td>8.628598e+06</td>\n",
       "      <td>4.900000e+01</td>\n",
       "      <td>1.000000e+00</td>\n",
       "      <td>3.500000e+01</td>\n",
       "      <td>1.000000e+00</td>\n",
       "      <td>3.945100e+04</td>\n",
       "      <td>1.520000e+02</td>\n",
       "      <td>2.320000e+02</td>\n",
       "      <td>0.000000e+00</td>\n",
       "    </tr>\n",
       "    <tr>\n",
       "      <th>max</th>\n",
       "      <td>1.150480e+07</td>\n",
       "      <td>8.500000e+01</td>\n",
       "      <td>1.000000e+00</td>\n",
       "      <td>5.200000e+01</td>\n",
       "      <td>1.000000e+00</td>\n",
       "      <td>5.401650e+05</td>\n",
       "      <td>1.630000e+02</td>\n",
       "      <td>2.990000e+02</td>\n",
       "      <td>1.000000e+00</td>\n",
       "    </tr>\n",
       "  </tbody>\n",
       "</table>\n",
       "</div>"
      ]
     },
     "execution_count": 6,
     "metadata": {},
     "output_type": "execute_result"
    }
   ],
   "execution_count": 6
  },
  {
   "metadata": {
    "ExecuteTime": {
     "end_time": "2024-08-01T18:38:14.642393Z",
     "start_time": "2024-08-01T18:38:11.206897Z"
    }
   },
   "cell_type": "code",
   "source": "sns.heatmap(df.corr(), annot=True)\n",
   "id": "c89cf638a62ca93e",
   "outputs": [
    {
     "name": "stderr",
     "output_type": "stream",
     "text": [
      "C:\\Users\\Engr. Abioye\\AppData\\Local\\Temp\\ipykernel_7360\\2077317913.py:1: FutureWarning: The default value of numeric_only in DataFrame.corr is deprecated. In a future version, it will default to False. Select only valid columns or specify the value of numeric_only to silence this warning.\n",
      "  sns.heatmap(df.corr(), annot=True)\n"
     ]
    },
    {
     "data": {
      "text/plain": [
       "<Axes: >"
      ]
     },
     "execution_count": 7,
     "metadata": {},
     "output_type": "execute_result"
    },
    {
     "data": {
      "text/plain": [
       "<Figure size 640x480 with 2 Axes>"
      ],
      "image/png": "[encoded data removed]"
     },
     "metadata": {},
     "output_type": "display_data"
    }
   ],
   "execution_count": 7
  },
  {
   "metadata": {},
   "cell_type": "code",
   "outputs": [],
   "execution_count": null,
   "source": "",
   "id": "44ad41e0b32acc6b"
  },
  {
   "metadata": {},
   "cell_type": "code",
   "outputs": [],
   "execution_count": null,
   "source": "",
   "id": "9b081b9fda9084fa"
  },
  {
   "metadata": {},
   "cell_type": "markdown",
   "source": "Feature Engineering",
   "id": "1232afcbee7eed03"
  },
  {
   "metadata": {
    "ExecuteTime": {
     "end_time": "2024-08-01T18:40:42.355261Z",
     "start_time": "2024-08-01T18:40:34.539199Z"
    }
   },
   "cell_type": "code",
   "source": [
    "def add_feats(df):\n",
    "    # Converting non-numerical features to numerical in order to check correlation with Target\n",
    "    df['Gender'] = df['Gender'].apply(lambda x: 1 if x== 'Male' else 0)\n",
    "    df['Vehicle_Age'] = df['Vehicle_Age'].map({'< 1 Year': 1, '1-2 Year': 2, '> 2 Years': 3})\n",
    "    df['Vehicle_Damage'] = df['Vehicle_Damage'].map({'Yes': 1, 'No': 0})\n",
    "    \n",
    "    # Multiplication of the features helps the model understand the intricate patterns of the data. Through interation features the model captures complex relationships between original features that models may miss. \n",
    "\n",
    "    df['Age x Vehicle_age'] = df['Age']* df['Vehicle_Age']     \n",
    "    df['Age x Annual Premium'] = df['Age']*df['Annual_Premium']\n",
    "    df['Vehicle damage x Annual_premium']= df['Vehicle_Damage']* df['Annual_Premium']\n",
    "\n",
    "    return df\n",
    "\n",
    "df= add_feats(df)\n",
    "df1= add_feats(df1)"
   ],
   "id": "3a65ee9589824ccf",
   "outputs": [],
   "execution_count": 8
  },
  {
   "metadata": {
    "ExecuteTime": {
     "end_time": "2024-08-01T18:40:58.894435Z",
     "start_time": "2024-08-01T18:40:50.362691Z"
    }
   },
   "cell_type": "code",
   "source": [
    "# Understanding how features correlate with Target \"Response\"\n",
    "plt.figure(figsize= (10,2))\n",
    "sns.heatmap(df.corr()[-4: :4], annot= True)"
   ],
   "id": "caeaa649b316591e",
   "outputs": [
    {
     "data": {
      "text/plain": [
       "<Axes: >"
      ]
     },
     "execution_count": 9,
     "metadata": {},
     "output_type": "execute_result"
    },
    {
     "data": {
      "text/plain": [
       "<Figure size 1000x200 with 2 Axes>"
      ],
      "image/png": "[encoded data removed]"
     },
     "metadata": {},
     "output_type": "display_data"
    }
   ],
   "execution_count": 9
  },
  {
   "metadata": {},
   "cell_type": "markdown",
   "source": "Building the Model: LightGBM",
   "id": "9c95b20a0991aaa8"
  },
  {
   "metadata": {
    "ExecuteTime": {
     "end_time": "2024-08-01T18:43:35.120841Z",
     "start_time": "2024-08-01T18:43:28.376010Z"
    }
   },
   "cell_type": "code",
   "source": [
    "# Splitting the Training Set\n",
    "\n",
    "from sklearn.model_selection import StratifiedShuffleSplit\n",
    "\n",
    "\n",
    "# Prepare the dataset\n",
    "X = df.drop(['id', 'Response', 'Driving_License', 'Gender'], axis=1)\n",
    "y = df['Response']\n",
    "\n",
    "# Using StratifiedShuffleSplit for better representation and split of the data\n",
    "sss = StratifiedShuffleSplit(n_splits=1, test_size=0.17, random_state=42)\n",
    "for train_index, val_index in sss.split(X, y):\n",
    "    X_train, X_val = X.iloc[train_index], X.iloc[val_index]\n",
    "    y_train, y_val = y.iloc[train_index], y.iloc[val_index]"
   ],
   "id": "d46aa293bf9e4af4",
   "outputs": [],
   "execution_count": 10
  },
  {
   "metadata": {},
   "cell_type": "markdown",
   "source": "Using Training Dataset (df) to see how well LightGBM Performs",
   "id": "86b63b5a3496fcd7"
  },
  {
   "metadata": {
    "ExecuteTime": {
     "end_time": "2024-08-01T18:43:55.339115Z",
     "start_time": "2024-08-01T18:43:54.052153Z"
    }
   },
   "cell_type": "code",
   "source": "import lightgbm as lgb",
   "id": "9cc5c4b154efbe88",
   "outputs": [],
   "execution_count": 11
  },
  {
   "metadata": {
    "ExecuteTime": {
     "end_time": "2024-08-01T18:52:28.562437Z",
     "start_time": "2024-08-01T18:44:01.555111Z"
    }
   },
   "cell_type": "code",
   "source": [
    "# Create LightGBM dataset with free_raw_data=False\n",
    "train_data = lgb.Dataset(X_train, label=y_train, free_raw_data=False)\n",
    "val_data = lgb.Dataset(X_val, label=y_val, reference=train_data, free_raw_data=False)\n",
    "\n",
    "# Updated parameter setup\n",
    "params = {\n",
    "    'objective': 'binary',\n",
    "    'metric': 'auc',\n",
    "    'device_type': 'cpu',\n",
    "    'boosting_type': 'gbdt',\n",
    "    'num_leaves': 156,\n",
    "    'learning_rate': 0.075,\n",
    "    'feature_fraction': 0.8,\n",
    "    'bagging_fraction': 0.8,\n",
    "    'bagging_freq': 5,\n",
    "    'lambda_l1': 0.1,\n",
    "    'lambda_l2': 0.1,\n",
    "    'max_depth': 10,\n",
    "    'max_bin': 1024\n",
    "\n",
    "}\n",
    "\n",
    "# Train the model with updated parameters\n",
    "bst = lgb.train(\n",
    "    params,\n",
    "    train_data,\n",
    "    num_boost_round=1500,           #\n",
    "    valid_sets=[val_data],\n",
    "    callbacks=[lgb.early_stopping(stopping_rounds=5), lgb.log_evaluation(50)]\n",
    ")\n"
   ],
   "id": "eae4bf63b4241739",
   "outputs": [
    {
     "name": "stdout",
     "output_type": "stream",
     "text": [
      "[LightGBM] [Warning] Found whitespace in feature_names, replace with underlines\n",
      "[LightGBM] [Info] Number of positive: 1174499, number of negative: 8374483\n",
      "[LightGBM] [Info] Auto-choosing col-wise multi-threading, the overhead of testing was 0.374282 seconds.\n",
      "You can set `force_col_wise=true` to remove the overhead.\n",
      "[LightGBM] [Info] Total Bins 3736\n",
      "[LightGBM] [Info] Number of data points in the train set: 9548982, number of used features: 11\n",
      "[LightGBM] [Warning] Found whitespace in feature_names, replace with underlines\n",
      "[LightGBM] [Info] [binary:BoostFromScore]: pavg=0.122997 -> initscore=-1.964348\n",
      "[LightGBM] [Info] Start training from score -1.964348\n",
      "Training until validation scores don't improve for 5 rounds\n",
      "[50]\tvalid_0's auc: 0.874152\n",
      "[100]\tvalid_0's auc: 0.878017\n",
      "[150]\tvalid_0's auc: 0.880082\n",
      "[200]\tvalid_0's auc: 0.881215\n",
      "[250]\tvalid_0's auc: 0.881866\n",
      "[300]\tvalid_0's auc: 0.88231\n",
      "[350]\tvalid_0's auc: 0.882609\n",
      "[400]\tvalid_0's auc: 0.882971\n",
      "[450]\tvalid_0's auc: 0.883151\n",
      "[500]\tvalid_0's auc: 0.883291\n",
      "[550]\tvalid_0's auc: 0.883487\n",
      "Early stopping, best iteration is:\n",
      "[583]\tvalid_0's auc: 0.883559\n"
     ]
    }
   ],
   "execution_count": 12
  },
  {
   "metadata": {
    "ExecuteTime": {
     "end_time": "2024-08-01T19:12:34.017449Z",
     "start_time": "2024-08-01T19:12:09.314606Z"
    }
   },
   "cell_type": "code",
   "source": [
    "# Predict\n",
    "from sklearn.metrics import roc_auc_score as ras\n",
    "y_pred_prob = bst.predict(X_val, num_iteration=bst.best_iteration)\n",
    "roc_auc = ras(y_val, y_pred_prob)\n",
    "print(f'ROC AUC Score: {roc_auc}')"
   ],
   "id": "e0bb33b184f2b7c1",
   "outputs": [
    {
     "name": "stdout",
     "output_type": "stream",
     "text": [
      "ROC AUC Score: 0.8835590763142127\n"
     ]
    }
   ],
   "execution_count": 13
  },
  {
   "metadata": {},
   "cell_type": "markdown",
   "source": "Observing Predicted Output",
   "id": "66db326d02ad34ff"
  },
  {
   "metadata": {
    "ExecuteTime": {
     "end_time": "2024-08-01T19:13:24.252473Z",
     "start_time": "2024-08-01T19:13:24.244465Z"
    }
   },
   "cell_type": "code",
   "source": [
    "# Model performs well\n",
    "y_pred_prob"
   ],
   "id": "598115e327fc41ce",
   "outputs": [
    {
     "data": {
      "text/plain": [
       "array([2.98028405e-01, 3.88348755e-04, 2.86175214e-01, ...,\n",
       "       3.46151257e-01, 4.34434381e-01, 5.68477914e-01])"
      ]
     },
     "execution_count": 14,
     "metadata": {},
     "output_type": "execute_result"
    }
   ],
   "execution_count": 14
  },
  {
   "metadata": {},
   "cell_type": "markdown",
   "source": "Training Model with Test Dataset (df1)",
   "id": "8c5860921b48d4c4"
  },
  {
   "metadata": {
    "ExecuteTime": {
     "end_time": "2024-08-01T19:19:55.365284Z",
     "start_time": "2024-08-01T19:13:34.926754Z"
    }
   },
   "cell_type": "code",
   "source": [
    "# Create Dataset for model\n",
    "final_df= lgb.Dataset(X, label=y, free_raw_data= False)\n",
    "\n",
    "# Training lightgbm model with dataset (final_df)\n",
    "final_model= lgb.train(\n",
    "    params,\n",
    "    final_df,\n",
    "    num_boost_round= bst.best_iteration\n",
    ")\n",
    "# Note: We used the same parameters of the original model (bst) that performed well\n"
   ],
   "id": "70c61eb6862901db",
   "outputs": [
    {
     "name": "stdout",
     "output_type": "stream",
     "text": [
      "[LightGBM] [Warning] Found whitespace in feature_names, replace with underlines\n",
      "[LightGBM] [Info] Number of positive: 1415059, number of negative: 10089739\n",
      "[LightGBM] [Info] Auto-choosing row-wise multi-threading, the overhead of testing was 0.093088 seconds.\n",
      "You can set `force_row_wise=true` to remove the overhead.\n",
      "And if memory is not enough, you can set `force_col_wise=true`.\n",
      "[LightGBM] [Info] Total Bins 3736\n",
      "[LightGBM] [Info] Number of data points in the train set: 11504798, number of used features: 11\n",
      "[LightGBM] [Info] [binary:BoostFromScore]: pavg=0.122997 -> initscore=-1.964348\n",
      "[LightGBM] [Info] Start training from score -1.964348\n"
     ]
    }
   ],
   "execution_count": 15
  },
  {
   "metadata": {
    "ExecuteTime": {
     "end_time": "2024-08-01T19:20:53.609541Z",
     "start_time": "2024-08-01T19:20:51.607285Z"
    }
   },
   "cell_type": "code",
   "source": [
    "# Creating Test Data for model\n",
    "X_test= df1.drop(['id','Driving_License', 'Gender'], axis= 1)\n",
    "X_test= X_test[X.columns]       # Ensuring the dataset contains same features as what was used in training the model originally\n"
   ],
   "id": "257de97cb724d21a",
   "outputs": [],
   "execution_count": 16
  },
  {
   "metadata": {
    "ExecuteTime": {
     "end_time": "2024-08-01T19:22:48.023737Z",
     "start_time": "2024-08-01T19:20:55.771271Z"
    }
   },
   "cell_type": "code",
   "source": [
    "# Prediction\n",
    "final_test_pred= final_model.predict(X_test, num_iteration= final_model.best_iteration)\n"
   ],
   "id": "8495306e5e9ef90f",
   "outputs": [],
   "execution_count": 17
  },
  {
   "metadata": {
    "ExecuteTime": {
     "end_time": "2024-08-01T19:25:06.723947Z",
     "start_time": "2024-08-01T19:25:06.704765Z"
    }
   },
   "cell_type": "code",
   "source": "final_test_pred",
   "id": "4edd1d42e0bcded",
   "outputs": [
    {
     "data": {
      "text/plain": [
       "array([5.71633918e-03, 4.88327622e-01, 2.40869936e-01, ...,\n",
       "       3.31349334e-04, 6.12604223e-01, 8.40280295e-05])"
      ]
     },
     "execution_count": 18,
     "metadata": {},
     "output_type": "execute_result"
    }
   ],
   "execution_count": 18
  },
  {
   "metadata": {
    "ExecuteTime": {
     "end_time": "2024-08-01T19:31:35.649733Z",
     "start_time": "2024-08-01T19:31:35.451861Z"
    }
   },
   "cell_type": "code",
   "source": [
    "Pred_response= pd.DataFrame({\n",
    "    'id': df1['id'],\n",
    "    'Response': final_test_pred,\n",
    "})"
   ],
   "id": "8b9963e26fe7c768",
   "outputs": [],
   "execution_count": 19
  },
  {
   "metadata": {
    "ExecuteTime": {
     "end_time": "2024-08-01T19:31:41.355047Z",
     "start_time": "2024-08-01T19:31:41.329630Z"
    }
   },
   "cell_type": "code",
   "source": "Pred_response",
   "id": "5fc7a68745c511e2",
   "outputs": [
    {
     "data": {
      "text/plain": [
       "               id  Response\n",
       "0        11504798  0.005716\n",
       "1        11504799  0.488328\n",
       "2        11504800  0.240870\n",
       "3        11504801  0.000101\n",
       "4        11504802  0.063778\n",
       "...           ...       ...\n",
       "7669861  19174659  0.185342\n",
       "7669862  19174660  0.000098\n",
       "7669863  19174661  0.000331\n",
       "7669864  19174662  0.612604\n",
       "7669865  19174663  0.000084\n",
       "\n",
       "[7669866 rows x 2 columns]"
      ],
      "text/html": [
       "<div>\n",
       "<style scoped>\n",
       "    .dataframe tbody tr th:only-of-type {\n",
       "        vertical-align: middle;\n",
       "    }\n",
       "\n",
       "    .dataframe tbody tr th {\n",
       "        vertical-align: top;\n",
       "    }\n",
       "\n",
       "    .dataframe thead th {\n",
       "        text-align: right;\n",
       "    }\n",
       "</style>\n",
       "<table border=\"1\" class=\"dataframe\">\n",
       "  <thead>\n",
       "    <tr style=\"text-align: right;\">\n",
       "      <th></th>\n",
       "      <th>id</th>\n",
       "      <th>Response</th>\n",
       "    </tr>\n",
       "  </thead>\n",
       "  <tbody>\n",
       "    <tr>\n",
       "      <th>0</th>\n",
       "      <td>11504798</td>\n",
       "      <td>0.005716</td>\n",
       "    </tr>\n",
       "    <tr>\n",
       "      <th>1</th>\n",
       "      <td>11504799</td>\n",
       "      <td>0.488328</td>\n",
       "    </tr>\n",
       "    <tr>\n",
       "      <th>2</th>\n",
       "      <td>11504800</td>\n",
       "      <td>0.240870</td>\n",
       "    </tr>\n",
       "    <tr>\n",
       "      <th>3</th>\n",
       "      <td>11504801</td>\n",
       "      <td>0.000101</td>\n",
       "    </tr>\n",
       "    <tr>\n",
       "      <th>4</th>\n",
       "      <td>11504802</td>\n",
       "      <td>0.063778</td>\n",
       "    </tr>\n",
       "    <tr>\n",
       "      <th>...</th>\n",
       "      <td>...</td>\n",
       "      <td>...</td>\n",
       "    </tr>\n",
       "    <tr>\n",
       "      <th>7669861</th>\n",
       "      <td>19174659</td>\n",
       "      <td>0.185342</td>\n",
       "    </tr>\n",
       "    <tr>\n",
       "      <th>7669862</th>\n",
       "      <td>19174660</td>\n",
       "      <td>0.000098</td>\n",
       "    </tr>\n",
       "    <tr>\n",
       "      <th>7669863</th>\n",
       "      <td>19174661</td>\n",
       "      <td>0.000331</td>\n",
       "    </tr>\n",
       "    <tr>\n",
       "      <th>7669864</th>\n",
       "      <td>19174662</td>\n",
       "      <td>0.612604</td>\n",
       "    </tr>\n",
       "    <tr>\n",
       "      <th>7669865</th>\n",
       "      <td>19174663</td>\n",
       "      <td>0.000084</td>\n",
       "    </tr>\n",
       "  </tbody>\n",
       "</table>\n",
       "<p>7669866 rows × 2 columns</p>\n",
       "</div>"
      ]
     },
     "execution_count": 20,
     "metadata": {},
     "output_type": "execute_result"
    }
   ],
   "execution_count": 20
  },
  {
   "metadata": {},
   "cell_type": "code",
   "outputs": [],
   "execution_count": null,
   "source": "",
   "id": "a573509144316376"
  },
  {
   "metadata": {},
   "cell_type": "code",
   "outputs": [],
   "execution_count": null,
   "source": "",
   "id": "7a1d62607601086e"
  },
  {
   "metadata": {},
   "cell_type": "code",
   "outputs": [],
   "execution_count": null,
   "source": "",
   "id": "20b9f70abb43864b"
  },
  {
   "metadata": {},
   "cell_type": "code",
   "outputs": [],
   "execution_count": null,
   "source": "",
   "id": "5426394256d79549"
  },
  {
   "metadata": {},
   "cell_type": "code",
   "outputs": [],
   "execution_count": null,
   "source": "",
   "id": "d5bbf792ca78d18b"
  },
  {
   "metadata": {},
   "cell_type": "code",
   "outputs": [],
   "execution_count": null,
   "source": "",
   "id": "8936b3beebfcd302"
  },
  {
   "metadata": {},
   "cell_type": "code",
   "outputs": [],
   "execution_count": null,
   "source": "",
   "id": "81bf21d500b6510f"
  },
  {
   "metadata": {},
   "cell_type": "code",
   "outputs": [],
   "execution_count": null,
   "source": "",
   "id": "e8c085002607e63b"
  }
 ],
 "metadata": {
  "kernelspec": {
   "display_name": "Python 3 (ipykernel)",
   "language": "python",
   "name": "python3"
  },
  "language_info": {
   "codemirror_mode": {
    "name": "ipython",
    "version": 3
   },
   "file_extension": ".py",
   "mimetype": "text/x-python",
   "name": "python",
   "nbconvert_exporter": "python",
   "pygments_lexer": "ipython3",
   "version": "3.8.19"
  }
 },
 "nbformat": 4,
 "nbformat_minor": 5
}
