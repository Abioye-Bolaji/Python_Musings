{
 "cells": [
  {
   "cell_type": "code",
   "execution_count": null,
   "metadata": {},
   "outputs": [],
   "source": [
    "zorona_responses = {\n",
    "    \"greeting\": \"Welcome to Zorona! How can we assist you today?\",\n",
    "    \"store_info\": \"Zorona is your one-stop shop for premium perfumes. We offer a wide range of fragrances for men, women, and unisex.\",\n",
    "    \"product_info\": \"We have a variety of products including Eau de Parfum, Eau de Toilette, and Cologne from top brands.\",\n",
    "    \"price_info\": \"Our prices range from N15,000.00 to N200,000.00. Please check individual product listings for exact prices.\",\n",
    "    \"stock_info\": \"We currently have stock available for all our products. Please check individual product listings for stock levels.\",\n",
    "    \"contact_info\": \"You can reach us at support@zorona.com or call us at +1234567890.\",\n",
    "    \"location_info\": \"Our store is located at 123 Perfume St, Fragrance City, SC 12345.\",\n",
    "    \"thank_you\": \"Thank you for choosing Zorona! We hope you have a great shopping experience.\",\n",
    "    \"goodbye\": \"Goodbye! We hope to see you again soon.\"\n",
    "}\n",
    "\n",
    "def zorona_chat():\n",
    "    print(\"Welcome to Zorona! How can we assist you today?\")\n",
    "    \n",
    "    while True:\n",
    "        bot = input(\"Customer: \")\n",
    "        if bot.lower() == \"hi\":\n",
    "            print(zorona_responses[\"greeting\"])\n",
    "        elif bot.lower() == \"what do you sell?\":\n",
    "            print(zorona_responses[\"product_info\"])\n",
    "        elif bot.lower() == \"what is zorona?\":\n",
    "            print(zorona_responses[\"store_info\"])\n",
    "        elif bot.lower() == \"what are your prices?\":\n",
    "            print(zorona_responses[\"price_info\"])\n",
    "        elif bot.lower() == \"do you have stock?\":\n",
    "            print(zorona_responses[\"stock_info\"])\n",
    "        elif bot.lower() == \"thank you\":\n",
    "            print(zorona_responses[\"thank_you\"])\n",
    "            break\n",
    "        elif bot.lower() == \"bye\":\n",
    "            print(zorona_responses[\"goodbye\"])\n",
    "            break\n",
    "        else:\n",
    "            print(\"I'm sorry, I do not understand. Please contact us at support@zorona.com for further assistance.\")\n",
    "    # bot = input(\"Customer: \")\n",
    "    # if bot.lower() == \"hi\":\n",
    "    #     print(zorona_responses[\"greeting\"])\n",
    "    # elif bot.lower() == \"what do you sell?\":\n",
    "    #     print(zorona_responses[\"product_info\"])\n",
    "    # elif bot.lower == \" What is Zorona?\":\n",
    "    #     print(zorona_responses[\"store_info\"])\n",
    "    # elif bot.lower() == \"what are your prices?\":\n",
    "    #     print(zorona_responses[\"price_info\"])\n",
    "    # elif bot.lower() == \"do you have stock?\":\n",
    "    #     print(zorona_responses[\"stock_info\"])\n",
    "\n",
    "    \n"
   ]
  },
  {
   "cell_type": "code",
   "execution_count": null,
   "metadata": {},
   "outputs": [
    {
     "name": "stdout",
     "output_type": "stream",
     "text": [
      "Welcome to Zorona! How can we assist you today?\n",
      "I'm sorry, I do not understand. Please contact us at support@zorona.com for further assistance.\n",
      "I'm sorry, I do not understand. Please contact us at support@zorona.com for further assistance.\n",
      "I'm sorry, I do not understand. Please contact us at support@zorona.com for further assistance.\n",
      "I'm sorry, I do not understand. Please contact us at support@zorona.com for further assistance.\n"
     ]
    }
   ],
   "source": [
    "zorona_chat()"
   ]
  },
  {
   "cell_type": "code",
   "execution_count": null,
   "metadata": {},
   "outputs": [],
   "source": []
  }
 ],
 "metadata": {
  "kernelspec": {
   "display_name": "base",
   "language": "python",
   "name": "python3"
  },
  "language_info": {
   "codemirror_mode": {
    "name": "ipython",
    "version": 3
   },
   "file_extension": ".py",
   "mimetype": "text/x-python",
   "name": "python",
   "nbconvert_exporter": "python",
   "pygments_lexer": "ipython3",
   "version": "3.11.4"
  }
 },
 "nbformat": 4,
 "nbformat_minor": 2
}
