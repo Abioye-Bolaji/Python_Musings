{
 "cells": [
  {
   "cell_type": "markdown",
   "metadata": {},
   "source": [
    "**ZoronaAI Chatbot**"
   ]
  },
  {
   "cell_type": "code",
   "execution_count": 6,
   "metadata": {},
   "outputs": [],
   "source": [
    "# Response Dictionary for Zorona Chatbot\n",
    "\n",
    "zorona_responses = {\n",
    "    \"greeting\": \"Welcome to Zorona! How can we assist you today?\",\n",
    "    \"store_info\": \"Zorona is your one-stop shop for premium perfumes. We offer a wide range of fragrances for men, women, and unisex.\",\n",
    "    \"product_info\": \"We have a variety of products including Eau de Parfum, Eau de Toilette, and Cologne from top brands.\",\n",
    "    \"price_info\": \"Our prices range from N15,000.00 to N200,000.00. Please check individual product listings for exact prices.\",\n",
    "    \"stock_info\": \"We currently have stock available for all our products. Please check individual product listings for stock levels.\",\n",
    "    \"contact_info\": \"You can reach us at support@zorona.com or call us at +1234567890.\",\n",
    "    \"location_info\": \"Our store is located at 123 Perfume St, Fragrance City, SC 12345.\",\n",
    "    \"thank_you\": \"Thank you for choosing Zorona! We hope you have a great shopping experience.\",\n",
    "    \"goodbye\": \"Goodbye! We hope to see you again soon.\"\n",
    "}\n",
    "\n",
    "def zorona_Ai(): # Defining the function for the chatbot\n",
    "    print(zorona_responses[\"greeting\"])\n",
    "    print(\"You can ask about the following:\")\n",
    "    for key in zorona_responses: # Defining the list of response that the user can ask about (Rule-based)\n",
    "        if key not in [\"greeting\", \"thank_you\", \"goodbye\"]: # Excluding the greeting, thank you, and goodbye responses from the list\n",
    "            print(f\"- {key.replace('_', ' ')}\")\n",
    "    print(\"Type 'thank you' or 'goodbye' to exit the chat.\")\n",
    "    unknown_response_count = 0 # Initializing the count of unknown responses to 0\n",
    "    \n",
    "    while True: # Loop for iterating through user responses\n",
    "        user_input = input(\"Customer: \").lower().replace(' ', '_')\n",
    "        response_found = False\n",
    "        \n",
    "        for key in zorona_responses:\n",
    "            if key == user_input:\n",
    "                print(\"\") # To create space between rule based user input and chatbot response\n",
    "                print(zorona_responses[key])\n",
    "                print(\"\")\n",
    "                response_found = True\n",
    "                break\n",
    "        \n",
    "        if not response_found:\n",
    "            print(\"I'm sorry, I do not understand. Please contact us at support@zorona.com for further assistance.\")\n",
    "            unknown_response_count += 1\n",
    "            if unknown_response_count >= 3:\n",
    "                break\n",
    "\n",
    "        if user_input in [\"thank_you\", \"goodbye\"]:\n",
    "            break\n",
    "\n"
   ]
  },
  {
   "cell_type": "code",
   "execution_count": 5,
   "metadata": {},
   "outputs": [
    {
     "name": "stdout",
     "output_type": "stream",
     "text": [
      "Welcome to Zorona! How can we assist you today?\n",
      "You can ask about the following:\n",
      "- store info\n",
      "- product info\n",
      "- price info\n",
      "- stock info\n",
      "- contact info\n",
      "- location info\n",
      "Type 'thank you' or 'goodbye' to exit the chat.\n",
      "\n",
      "We have a variety of products including Eau de Parfum, Eau de Toilette, and Cologne from top brands.\n",
      "\n",
      "\n",
      "Thank you for choosing Zorona! We hope you have a great shopping experience.\n",
      "\n"
     ]
    }
   ],
   "source": [
    "zorona_Ai()"
   ]
  },
  {
   "cell_type": "code",
   "execution_count": null,
   "metadata": {},
   "outputs": [],
   "source": []
  }
 ],
 "metadata": {
  "kernelspec": {
   "display_name": "base",
   "language": "python",
   "name": "python3"
  },
  "language_info": {
   "codemirror_mode": {
    "name": "ipython",
    "version": 3
   },
   "file_extension": ".py",
   "mimetype": "text/x-python",
   "name": "python",
   "nbconvert_exporter": "python",
   "pygments_lexer": "ipython3",
   "version": "3.11.4"
  }
 },
 "nbformat": 4,
 "nbformat_minor": 2
}
